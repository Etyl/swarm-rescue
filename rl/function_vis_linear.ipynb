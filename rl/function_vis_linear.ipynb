{
 "cells": [
  {
   "cell_type": "code",
   "execution_count": 1,
   "id": "initial_id",
   "metadata": {
    "ExecuteTime": {
     "end_time": "2025-01-06T22:51:55.029653Z",
     "start_time": "2025-01-06T22:51:55.020332Z"
    },
    "collapsed": true
   },
   "outputs": [],
   "source": [
    "import numpy as np\n",
    "import torch\n",
    "import matplotlib.pyplot as plt\n",
    "\n",
    "FRONTIER_COUNT=6\n",
    "FRONTIER_FEATURES=6\n",
    "ACTION_SPACE=FRONTIER_COUNT \n",
    "OTHER_FRONTIER_INPUTS=3"
   ]
  },
  {
   "cell_type": "code",
   "execution_count": 2,
   "id": "1c12d6fe9a1b120a",
   "metadata": {
    "ExecuteTime": {
     "end_time": "2025-01-06T22:51:55.107726Z",
     "start_time": "2025-01-06T22:51:55.092369Z"
    }
   },
   "outputs": [],
   "source": [
    "Q1 = torch.load(\"data/Q_function_14.pth\", map_location=torch.device('cpu'), weights_only=False)\n",
    "Q2 = torch.load(\"data/Q_function_13.pth\", map_location=torch.device('cpu'), weights_only=False)"
   ]
  },
  {
   "cell_type": "code",
   "execution_count": 3,
   "id": "a79a19021cefd21c",
   "metadata": {
    "ExecuteTime": {
     "end_time": "2025-01-06T22:51:55.138821Z",
     "start_time": "2025-01-06T22:51:55.116667Z"
    }
   },
   "outputs": [],
   "source": [
    "keys = [\n",
    "    'size',\n",
    "    'count',\n",
    "    'distance',\n",
    "    'repulsion_angle',\n",
    "    'direction_angle',\n",
    "    'distance_last'\n",
    "]\n",
    "keys.sort()\n",
    "keys\n",
    "\n",
    "global_keys = [\n",
    "    'total_exploration',\n",
    "    'exploration progress',\n",
    "    'local_exploration'\n",
    "]"
   ]
  },
  {
   "cell_type": "code",
   "execution_count": 4,
   "id": "e7c3c532dd9da7a2",
   "metadata": {
    "ExecuteTime": {
     "end_time": "2025-01-06T22:51:55.250297Z",
     "start_time": "2025-01-06T22:51:55.242270Z"
    }
   },
   "outputs": [],
   "source": [
    "def multi_input1(x):\n",
    "    output = torch.zeros(ACTION_SPACE,device=x.device, dtype=x.dtype)\n",
    "    for i in range(ACTION_SPACE):\n",
    "        input = torch.zeros(FRONTIER_FEATURES+OTHER_FRONTIER_INPUTS, device=x.device, dtype=x.dtype)\n",
    "        for j in range(ACTION_SPACE):\n",
    "            input[j] = x[j*FRONTIER_FEATURES+i]\n",
    "        for j in range(OTHER_FRONTIER_INPUTS):\n",
    "            input[FRONTIER_FEATURES+j] = x[ACTION_SPACE*FRONTIER_FEATURES+j]\n",
    "        output[i] = Q1(input)[0]\n",
    "    return output\n",
    "\n",
    "def multi_input2(x):\n",
    "    output = torch.zeros(ACTION_SPACE,device=x.device, dtype=x.dtype)\n",
    "    for i in range(ACTION_SPACE):\n",
    "        input = torch.zeros(FRONTIER_FEATURES+OTHER_FRONTIER_INPUTS, device=x.device, dtype=x.dtype)\n",
    "        for j in range(ACTION_SPACE):\n",
    "            input[j] = x[j*FRONTIER_FEATURES+i]\n",
    "        for j in range(OTHER_FRONTIER_INPUTS):\n",
    "            input[FRONTIER_FEATURES+j] = x[ACTION_SPACE*FRONTIER_FEATURES+j]\n",
    "        output[i] = Q2(input)[0]\n",
    "    return output\n",
    "\n",
    "policy1 = multi_input1\n",
    "policy2 = multi_input2"
   ]
  },
  {
   "cell_type": "code",
   "execution_count": 5,
   "id": "89ab805babaf0f04",
   "metadata": {
    "ExecuteTime": {
     "end_time": "2025-01-06T22:51:56.581673Z",
     "start_time": "2025-01-06T22:51:55.346670Z"
    }
   },
   "outputs": [
    {
     "name": "stdout",
     "output_type": "stream",
     "text": [
      "[158. 159. 147. 182. 168. 186.]\n"
     ]
    }
   ],
   "source": [
    "actions = np.zeros(6)\n",
    "for _ in range(1000):\n",
    "    obs = torch.tensor(np.random.random(39), dtype=torch.float32)\n",
    "    obs[-3] = 0.5\n",
    "    obs[-2] = 0.01\n",
    "    obs[-1] = 0.2\n",
    "    with torch.no_grad():\n",
    "        out = policy1(obs).cpu().numpy()\n",
    "        actions[np.argmax(out)] += 1\n",
    "print(actions)"
   ]
  },
  {
   "cell_type": "code",
   "execution_count": 9,
   "id": "beeffe9f",
   "metadata": {},
   "outputs": [],
   "source": [
    "weights1 = Q1[0][0].weight.detach().numpy()[0,:]\n",
    "bias1 = Q1[0][0].bias.detach().numpy()[0]\n",
    "weights2 = Q2[0][0].weight.detach().numpy()[0,:]\n",
    "bias2 = Q2[0][0].bias.detach().numpy()[0]\n",
    "X = np.linspace(0,1,100)"
   ]
  },
  {
   "cell_type": "code",
   "execution_count": 11,
   "id": "c611cb74672d81d9",
   "metadata": {
    "ExecuteTime": {
     "end_time": "2025-01-06T22:52:00.248474Z",
     "start_time": "2025-01-06T22:52:00.228744Z"
    }
   },
   "outputs": [
    {
     "name": "stdout",
     "output_type": "stream",
     "text": [
      "count: 0.93  / 1.06\n",
      "direction_angle: 1.11  / 1.18\n",
      "distance: 1.08  / 1.05\n",
      "distance_last: 1.25  / 1.16\n",
      "repulsion_angle: 0.52  / 0.39\n",
      "size: 0.79  / 0.88\n",
      "total_exploration: 1.13 / 1.25\n",
      "exploration progress: 0.66 / 0.71\n",
      "local_exploration: 0.03 / 0.04\n"
     ]
    }
   ],
   "source": [
    "for i in range(FRONTIER_FEATURES):\n",
    "    print(f\"{keys[i]}: {weights1[i]:.2f}  / {weights2[i]:.2f}\")\n",
    "for i in range(OTHER_FRONTIER_INPUTS):\n",
    "    print(f\"{global_keys[i]}: {weights1[i+FRONTIER_FEATURES]:.2f} / {weights2[i+FRONTIER_FEATURES]:.2f}\")\n"
   ]
  }
 ],
 "metadata": {
  "kernelspec": {
   "display_name": "env",
   "language": "python",
   "name": "python3"
  },
  "language_info": {
   "codemirror_mode": {
    "name": "ipython",
    "version": 3
   },
   "file_extension": ".py",
   "mimetype": "text/x-python",
   "name": "python",
   "nbconvert_exporter": "python",
   "pygments_lexer": "ipython3",
   "version": "3.8.10"
  }
 },
 "nbformat": 4,
 "nbformat_minor": 5
}
