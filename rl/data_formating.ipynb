{
 "cells": [
  {
   "cell_type": "code",
   "id": "initial_id",
   "metadata": {
    "collapsed": true,
    "ExecuteTime": {
     "end_time": "2025-01-05T10:50:15.263666Z",
     "start_time": "2025-01-05T10:50:15.240660Z"
    }
   },
   "source": [
    "import os\n",
    "from collections import defaultdict\n",
    "import json\n",
    "from tqdm import tqdm\n",
    "\n",
    "from solutions.utils.constants import OBSERVATION_SPACE, ACTION_SPACE"
   ],
   "outputs": [],
   "execution_count": 1
  },
  {
   "metadata": {
    "ExecuteTime": {
     "end_time": "2025-01-05T10:50:15.279083Z",
     "start_time": "2025-01-05T10:50:15.267925Z"
    }
   },
   "cell_type": "code",
   "source": [
    "main_dir = \"runs/rl-run-dqn-7\"\n",
    "output_dir = \"rl-run-dqn-7-data.json\"\n",
    "\n",
    "main_dir = os.path.join(os.getcwd(), main_dir)\n",
    "\n",
    "maps = [\n",
    "    \"MyMapFinal2022_23\",\n",
    "    \"MyMapFinal_2023_24_01\",\n",
    "    \"MyMapFinal_2023_24_02\",\n",
    "    \"MyMapFinal_2023_24_03\",\n",
    "    \"MyMapMedium01\",\n",
    "    \"MyMapMedium02\",\n",
    "]"
   ],
   "id": "39c30c46b6efaeff",
   "outputs": [],
   "execution_count": 2
  },
  {
   "metadata": {
    "ExecuteTime": {
     "end_time": "2025-01-05T10:50:40.218342Z",
     "start_time": "2025-01-05T10:50:15.500501Z"
    }
   },
   "cell_type": "code",
   "source": [
    "data = defaultdict(list)\n",
    "\n",
    "# List all directories in the current directory\n",
    "count = 0\n",
    "for dir in tqdm(os.listdir(main_dir)):\n",
    "    dir_name = dir + \"\"\n",
    "    \n",
    "    current_map = \"\"\n",
    "    for map_name in maps:\n",
    "        if map_name in dir_name:\n",
    "            current_map = map_name\n",
    "            dir_name = dir_name.replace(map_name,\"\")\n",
    "    \n",
    "    \n",
    "    dir_split = dir_name.split(\"_\")\n",
    "    epsilon = float(dir_split[1])\n",
    "    curr_dir = os.path.join(main_dir, dir)\n",
    "    \n",
    "    map_data = {}\n",
    "    \n",
    "    run = defaultdict(list)\n",
    "    try:\n",
    "        with open(os.path.join(curr_dir, \"run.txt\"), \"r\") as f:\n",
    "            for line in f:\n",
    "                l = list(map(float,line.strip().split()))\n",
    "                step = {}\n",
    "                k = 0\n",
    "                run[\"obs\"].append(l[k:k+OBSERVATION_SPACE])\n",
    "                k += OBSERVATION_SPACE\n",
    "                run[\"action\"].append(l[k:k+ACTION_SPACE])\n",
    "                k += ACTION_SPACE\n",
    "                run[\"next_obs\"].append(l[k:k+OBSERVATION_SPACE])\n",
    "                k += OBSERVATION_SPACE\n",
    "                run[\"reward\"].append(l[k:k+1])\n",
    "    except:\n",
    "        continue\n",
    "    map_data[\"run\"] = run\n",
    "     \n",
    "    score = []\n",
    "    try:\n",
    "        with open(os.path.join(curr_dir, \"score.txt\"), \"r\") as f:\n",
    "            line = f.readline()\n",
    "            score = list(map(float,line.strip().split()))\n",
    "    except:\n",
    "        continue\n",
    "    map_data[\"score\"] = score\n",
    "    \n",
    "    info = {}\n",
    "    try:\n",
    "        with open(os.path.join(curr_dir, \"info.json\"), \"r\") as f:\n",
    "            info = json.load(f)\n",
    "            info[\"epsilon\"] = epsilon\n",
    "    except:\n",
    "        continue\n",
    "    map_data[\"info\"] = info\n",
    "    \n",
    "    count += 1\n",
    "    data[current_map].append(map_data)\n",
    "    \n",
    "print(f\"Loaded {count} maps\")"
   ],
   "id": "78c96eff50feee61",
   "outputs": [
    {
     "name": "stderr",
     "output_type": "stream",
     "text": [
      "100%|██████████| 300/300 [00:24<00:00, 12.16it/s]"
     ]
    },
    {
     "name": "stdout",
     "output_type": "stream",
     "text": [
      "Loaded 300 maps\n"
     ]
    },
    {
     "name": "stderr",
     "output_type": "stream",
     "text": [
      "\n"
     ]
    }
   ],
   "execution_count": 3
  },
  {
   "metadata": {
    "ExecuteTime": {
     "end_time": "2025-01-05T10:54:37.795977Z",
     "start_time": "2025-01-05T10:51:00.945356Z"
    }
   },
   "cell_type": "code",
   "source": [
    "\n",
    "print(\"Saving data...\")\n",
    "with open(output_dir, \"w\") as f:\n",
    "    json.dump(data, f)"
   ],
   "id": "f08b23c7d71c7b37",
   "outputs": [
    {
     "name": "stdout",
     "output_type": "stream",
     "text": [
      "Saving data...\n"
     ]
    }
   ],
   "execution_count": 4
  },
  {
   "metadata": {},
   "cell_type": "markdown",
   "source": [
    "Structure of saved file:\n",
    "\n",
    "```json\n",
    "{\n",
    "    map_name: [\n",
    "        {\n",
    "            \"info\": {\n",
    "                \"score\": 74.8503579427193,\n",
    "                \"percent_rescued\": 95.23809523809523,\n",
    "                \"score_timestep\": 0,\n",
    "                \"percent_drones_destroyed\": 20.0,\n",
    "                \"mean_drones_health\": 19.7,\n",
    "                \"elapsed_timestep\": 7200,\n",
    "                \"full_rescue_timestep\": 0,\n",
    "                \"score_exploration\": 99.7565516183584,\n",
    "                \"rescued_number\": 20.0,\n",
    "                \"score_health_returned\": 36.4,\n",
    "                \"elapsed_walltime\": 3557.8437206745148,\n",
    "                \"is_max_walltime_limit_reached\": false,\n",
    "                \"has_crashed\": false,\n",
    "                \"epsilon\": 0.1\n",
    "            },\n",
    "            \"run\": {\n",
    "                \"obs\": [],\n",
    "                \"action\": [],\n",
    "                \"next_obs\": [],\n",
    "                \"reward\": []\n",
    "            },\n",
    "            \"score\": []\n",
    "        },\n",
    "        {\n",
    "            ...\n",
    "        },\n",
    "    ]\n",
    "}\n",
    "```"
   ],
   "id": "8ff15900907e8515"
  }
 ],
 "metadata": {
  "kernelspec": {
   "display_name": "Python 3",
   "language": "python",
   "name": "python3"
  },
  "language_info": {
   "codemirror_mode": {
    "name": "ipython",
    "version": 2
   },
   "file_extension": ".py",
   "mimetype": "text/x-python",
   "name": "python",
   "nbconvert_exporter": "python",
   "pygments_lexer": "ipython2",
   "version": "2.7.6"
  }
 },
 "nbformat": 4,
 "nbformat_minor": 5
}
