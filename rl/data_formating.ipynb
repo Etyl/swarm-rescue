{
 "cells": [
  {
   "cell_type": "code",
   "execution_count": 2,
   "id": "initial_id",
   "metadata": {
    "ExecuteTime": {
     "end_time": "2025-01-08T11:34:32.808916Z",
     "start_time": "2025-01-08T11:34:32.792776Z"
    },
    "collapsed": true
   },
   "outputs": [],
   "source": [
    "import os\n",
    "from collections import defaultdict\n",
    "import json\n",
    "from tqdm import tqdm\n",
    "\n",
    "OBSERVATION_SPACE = 6*6+3\n",
    "ACTION_SPACE = 6\n",
    "REWARD_SPACE = 2"
   ]
  },
  {
   "cell_type": "code",
   "execution_count": 3,
   "id": "39c30c46b6efaeff",
   "metadata": {
    "ExecuteTime": {
     "end_time": "2025-01-08T11:34:32.841402Z",
     "start_time": "2025-01-08T11:34:32.825356Z"
    }
   },
   "outputs": [],
   "source": [
    "main_dir = \"runs/rl-run-dqn-14\"\n",
    "output_dir = \"rl-run-dqn-14-data.json\"\n",
    "\n",
    "main_dir = os.path.join(os.getcwd(), main_dir)\n",
    "\n",
    "maps = [\n",
    "    \"MyMapFinal2022_23\",\n",
    "    \"MyMapFinal_2023_24_01\",\n",
    "    \"MyMapFinal_2023_24_02\",\n",
    "    \"MyMapFinal_2023_24_03\",\n",
    "    \"MyMapMedium01\",\n",
    "    \"MyMapMedium02\",\n",
    "]"
   ]
  },
  {
   "cell_type": "code",
   "execution_count": 4,
   "id": "78c96eff50feee61",
   "metadata": {
    "ExecuteTime": {
     "end_time": "2025-01-08T11:34:52.410169Z",
     "start_time": "2025-01-08T11:34:32.915327Z"
    }
   },
   "outputs": [
    {
     "name": "stderr",
     "output_type": "stream",
     "text": [
      "100%|██████████| 90/90 [00:08<00:00, 10.39it/s]"
     ]
    },
    {
     "name": "stdout",
     "output_type": "stream",
     "text": [
      "Loaded 90 maps\n"
     ]
    },
    {
     "name": "stderr",
     "output_type": "stream",
     "text": [
      "\n"
     ]
    }
   ],
   "source": [
    "data = defaultdict(list)\n",
    "\n",
    "# List all directories in the current directory\n",
    "count = 0\n",
    "for dir in tqdm(os.listdir(main_dir)):\n",
    "    dir_name = dir + \"\"\n",
    "    \n",
    "    current_map = \"\"\n",
    "    for map_name in maps:\n",
    "        if map_name in dir_name:\n",
    "            current_map = map_name\n",
    "            dir_name = dir_name.replace(map_name,\"\")\n",
    "    \n",
    "    \n",
    "    dir_split = dir_name.split(\"_\")\n",
    "    epsilon = float(dir_split[1])\n",
    "    curr_dir = os.path.join(main_dir, dir)\n",
    "    \n",
    "    map_data = {}\n",
    "    \n",
    "    run = defaultdict(list)\n",
    "    try:\n",
    "        with open(os.path.join(curr_dir, \"run.txt\"), \"r\") as f:\n",
    "            for line in f:\n",
    "                l = list(map(float,line.strip().split()))\n",
    "                step = {}\n",
    "                k = 0\n",
    "                run[\"obs\"].append(l[k:k+OBSERVATION_SPACE])\n",
    "                k += OBSERVATION_SPACE\n",
    "                run[\"action\"].append(l[k:k+ACTION_SPACE])\n",
    "                k += ACTION_SPACE\n",
    "                run[\"next_obs\"].append(l[k:k+OBSERVATION_SPACE])\n",
    "                k += OBSERVATION_SPACE\n",
    "                run[\"reward\"].append(l[k:k+REWARD_SPACE])\n",
    "    except:\n",
    "        continue\n",
    "    map_data[\"run\"] = run\n",
    "     \n",
    "    score = []\n",
    "    try:\n",
    "        with open(os.path.join(curr_dir, \"score.txt\"), \"r\") as f:\n",
    "            line = f.readline()\n",
    "            score = list(map(float,line.strip().split()))\n",
    "    except:\n",
    "        continue\n",
    "    map_data[\"score\"] = score\n",
    "    \n",
    "    info = {}\n",
    "    try:\n",
    "        with open(os.path.join(curr_dir, \"info.json\"), \"r\") as f:\n",
    "            info = json.load(f)\n",
    "            info[\"epsilon\"] = epsilon\n",
    "    except:\n",
    "        continue\n",
    "    map_data[\"info\"] = info\n",
    "    \n",
    "    count += 1\n",
    "    data[current_map].append(map_data)\n",
    "    \n",
    "print(f\"Loaded {count} maps\")"
   ]
  },
  {
   "cell_type": "code",
   "execution_count": 5,
   "id": "f08b23c7d71c7b37",
   "metadata": {
    "ExecuteTime": {
     "end_time": "2025-01-08T11:36:55.602709Z",
     "start_time": "2025-01-08T11:35:06.080270Z"
    }
   },
   "outputs": [
    {
     "name": "stdout",
     "output_type": "stream",
     "text": [
      "Saving data...\n"
     ]
    }
   ],
   "source": [
    "print(\"Saving data...\")\n",
    "with open(output_dir, \"w\") as f:\n",
    "    json.dump(data, f)"
   ]
  },
  {
   "cell_type": "markdown",
   "id": "8ff15900907e8515",
   "metadata": {},
   "source": [
    "Structure of saved file:\n",
    "\n",
    "```json\n",
    "{\n",
    "    map_name: [\n",
    "        {\n",
    "            \"info\": {\n",
    "                \"score\": 74.8503579427193,\n",
    "                \"percent_rescued\": 95.23809523809523,\n",
    "                \"score_timestep\": 0,\n",
    "                \"percent_drones_destroyed\": 20.0,\n",
    "                \"mean_drones_health\": 19.7,\n",
    "                \"elapsed_timestep\": 7200,\n",
    "                \"full_rescue_timestep\": 0,\n",
    "                \"score_exploration\": 99.7565516183584,\n",
    "                \"rescued_number\": 20.0,\n",
    "                \"score_health_returned\": 36.4,\n",
    "                \"elapsed_walltime\": 3557.8437206745148,\n",
    "                \"is_max_walltime_limit_reached\": false,\n",
    "                \"has_crashed\": false,\n",
    "                \"epsilon\": 0.1\n",
    "            },\n",
    "            \"run\": {\n",
    "                \"obs\": [],\n",
    "                \"action\": [],\n",
    "                \"next_obs\": [],\n",
    "                \"reward\": []\n",
    "            },\n",
    "            \"score\": []\n",
    "        },\n",
    "        {\n",
    "            ...\n",
    "        },\n",
    "    ]\n",
    "}\n",
    "```"
   ]
  }
 ],
 "metadata": {
  "kernelspec": {
   "display_name": "env",
   "language": "python",
   "name": "python3"
  },
  "language_info": {
   "codemirror_mode": {
    "name": "ipython",
    "version": 3
   },
   "file_extension": ".py",
   "mimetype": "text/x-python",
   "name": "python",
   "nbconvert_exporter": "python",
   "pygments_lexer": "ipython3",
   "version": "3.8.10"
  }
 },
 "nbformat": 4,
 "nbformat_minor": 5
}
